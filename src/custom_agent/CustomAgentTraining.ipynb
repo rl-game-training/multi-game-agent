{
 "cells": [
  {
   "cell_type": "code",
   "execution_count": 3,
   "metadata": {
    "collapsed": true,
    "pycharm": {
     "is_executing": false
    }
   },
   "outputs": [
    {
     "traceback": [
      "\u001b[0;31m---------------------------------------------------------------------------\u001b[0m",
      "\u001b[0;31mAttributeError\u001b[0m                            Traceback (most recent call last)",
      "\u001b[0;32m<ipython-input-3-c9c1d039a4ef>\u001b[0m in \u001b[0;36m<module>\u001b[0;34m\u001b[0m\n\u001b[1;32m     17\u001b[0m \u001b[0;34m\u001b[0m\u001b[0m\n\u001b[1;32m     18\u001b[0m \u001b[0mstate\u001b[0m \u001b[0;34m=\u001b[0m \u001b[0menv\u001b[0m\u001b[0;34m.\u001b[0m\u001b[0mreset\u001b[0m\u001b[0;34m(\u001b[0m\u001b[0;34m)\u001b[0m\u001b[0;34m\u001b[0m\u001b[0;34m\u001b[0m\u001b[0m\n\u001b[0;32m---> 19\u001b[0;31m \u001b[0magent\u001b[0m\u001b[0;34m.\u001b[0m\u001b[0mprocess_state\u001b[0m\u001b[0;34m(\u001b[0m\u001b[0mstate\u001b[0m\u001b[0;34m)\u001b[0m\u001b[0;34m\u001b[0m\u001b[0;34m\u001b[0m\u001b[0m\n\u001b[0m\u001b[1;32m     20\u001b[0m \u001b[0;34m\u001b[0m\u001b[0m\n",
      "\u001b[0;31mAttributeError\u001b[0m: 'BreakoutAgent' object has no attribute 'process_state'"
     ],
     "ename": "AttributeError",
     "evalue": "'BreakoutAgent' object has no attribute 'process_state'",
     "output_type": "error"
    }
   ],
   "source": [
    "import gym\n",
    "from agent import BreakoutAgent\n",
    "from dqn import DeepQNetwork\n",
    "\n",
    "env = gym.make('Breakout-v0')\n",
    "model = DeepQNetwork(4, env.action_space.n)\n",
    "agent = BreakoutAgent(env=env,\n",
    "                      model=model,\n",
    "                      memory_size=100,\n",
    "                      num_frames=4,\n",
    "                      gamma=0.9,\n",
    "                      learning_rate=0.01,\n",
    "                      burn_in_steps=100,\n",
    "                      update_interval=100,\n",
    "                      save_interval=100,\n",
    "                      clone_interval=100)\n",
    "\n",
    "state = env.reset()\n",
    "agent.process_state(state)\n"
   ]
  }
 ],
 "metadata": {
  "kernelspec": {
   "display_name": "Python 3",
   "language": "python",
   "name": "python3"
  },
  "language_info": {
   "codemirror_mode": {
    "name": "ipython",
    "version": 2
   },
   "file_extension": ".py",
   "mimetype": "text/x-python",
   "name": "python",
   "nbconvert_exporter": "python",
   "pygments_lexer": "ipython2",
   "version": "2.7.6"
  },
  "pycharm": {
   "stem_cell": {
    "cell_type": "raw",
    "source": [],
    "metadata": {
     "collapsed": false
    }
   }
  }
 },
 "nbformat": 4,
 "nbformat_minor": 0
}