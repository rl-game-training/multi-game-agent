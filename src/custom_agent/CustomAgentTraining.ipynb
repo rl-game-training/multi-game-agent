{
 "cells": [
  {
   "cell_type": "markdown",
   "source": [
    "## Pull repository"
   ],
   "metadata": {
    "collapsed": false,
    "pycharm": {
     "name": "#%% md\n"
    }
   }
  },
  {
   "cell_type": "code",
   "execution_count": null,
   "outputs": [],
   "source": [
    "%cd /content/\n",
    "!rm -r multi-game-agent\n",
    "!git clone https://github.com/rl-game-training/multi-game-agent.git\n",
    "%cd multi-game-agent\n",
    "!git pull origin alek/vanilla-dqn\n",
    "!git checkout alek/vanilla-dqn\n",
    "!ls"
   ],
   "metadata": {
    "collapsed": false,
    "pycharm": {
     "name": "#%%\n"
    }
   }
  },
  {
   "cell_type": "markdown",
   "source": [
    "## Imports"
   ],
   "metadata": {
    "collapsed": false,
    "pycharm": {
     "name": "#%% md\n"
    }
   }
  },
  {
   "cell_type": "code",
   "execution_count": null,
   "outputs": [],
   "source": [
    "import gym\n",
    "\n",
    "from src.custom_agent.dqn import DeepQNetwork\n",
    "from src.custom_agent.agent import BreakoutAgent"
   ],
   "metadata": {
    "collapsed": false,
    "pycharm": {
     "name": "#%%\n"
    }
   }
  },
  {
   "cell_type": "markdown",
   "source": [
    "## Define hyperparameters"
   ],
   "metadata": {
    "collapsed": false,
    "pycharm": {
     "name": "#%% md\n"
    }
   }
  },
  {
   "cell_type": "code",
   "execution_count": null,
   "outputs": [],
   "source": [
    "update_interval = 4\n",
    "clone_interval = int(1e4)\n",
    "save_interval = int(1e4)\n",
    "\n",
    "batch_size = 32\n",
    "episodes = int(1e5)\n",
    "num_frames = 4\n",
    "memory_size = int(1e5)\n",
    "\n",
    "explore_start = 1.0\n",
    "explore_stop = 0.01\n",
    "decay_rate = 0.00001\n",
    "\n",
    "gamma = 0.99\n",
    "\n",
    "burn_in = int(5e4)\n",
    "learning_rate = 2.5e-4"
   ],
   "metadata": {
    "collapsed": false,
    "pycharm": {
     "name": "#%%\n"
    }
   }
  },
  {
   "cell_type": "markdown",
   "source": [
    "## Initialize environment, model and agent"
   ],
   "metadata": {
    "collapsed": false,
    "pycharm": {
     "name": "#%% md\n"
    }
   }
  },
  {
   "cell_type": "code",
   "execution_count": null,
   "outputs": [],
   "source": [
    "env = gym.make('BreakoutDeterministic-v4')\n",
    "\n",
    "model = DeepQNetwork(num_frames, env.action_space.n)\n",
    "\n",
    "agent = BreakoutAgent(env=env,\n",
    "                      model=model,\n",
    "                      memory_size=memory_size,\n",
    "                      batch_size=batch_size,\n",
    "                      num_frames=num_frames,\n",
    "                      gamma=gamma,\n",
    "                      learning_rate=learning_rate,\n",
    "                      burn_in_steps=burn_in,\n",
    "                      explore_start=explore_start,\n",
    "                      explore_stop=explore_stop,\n",
    "                      decay_rate=decay_rate,\n",
    "                      update_interval=update_interval,\n",
    "                      save_interval=save_interval,\n",
    "                      clone_interval=clone_interval,\n",
    "                      ckpt_dir='ckpt')"
   ],
   "metadata": {
    "collapsed": false,
    "pycharm": {
     "name": "#%%\n"
    }
   }
  },
  {
   "cell_type": "markdown",
   "source": [
    "## Train agent"
   ],
   "metadata": {
    "collapsed": false,
    "pycharm": {
     "name": "#%% md\n"
    }
   }
  },
  {
   "cell_type": "code",
   "execution_count": null,
   "outputs": [],
   "source": [
    "agent.train(episodes)"
   ],
   "metadata": {
    "collapsed": false,
    "pycharm": {
     "name": "#%%\n"
    }
   }
  },
  {
   "cell_type": "markdown",
   "source": [
    "## Let the agent play"
   ],
   "metadata": {
    "collapsed": false,
    "pycharm": {
     "name": "#%% md\n"
    }
   }
  },
  {
   "cell_type": "code",
   "source": [
    "agent.play(10, load_ckpt=True)"
   ],
   "metadata": {
    "collapsed": false,
    "pycharm": {
     "name": "#%%\n"
    }
   },
   "execution_count": null,
   "outputs": []
  }
 ],
 "metadata": {
  "kernelspec": {
   "display_name": "Python 3",
   "language": "python",
   "name": "python3"
  },
  "language_info": {
   "codemirror_mode": {
    "name": "ipython",
    "version": 2
   },
   "file_extension": ".py",
   "mimetype": "text/x-python",
   "name": "python",
   "nbconvert_exporter": "python",
   "pygments_lexer": "ipython2",
   "version": "2.7.6"
  },
  "pycharm": {
   "stem_cell": {
    "cell_type": "raw",
    "source": [],
    "metadata": {
     "collapsed": false
    }
   }
  }
 },
 "nbformat": 4,
 "nbformat_minor": 0
}