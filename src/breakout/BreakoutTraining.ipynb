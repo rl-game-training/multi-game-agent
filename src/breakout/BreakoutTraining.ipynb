{
 "cells": [
  {
   "cell_type": "markdown",
   "source": [
    "## Imports"
   ],
   "metadata": {
    "collapsed": false,
    "pycharm": {
     "name": "#%% md\n"
    }
   }
  },
  {
   "cell_type": "code",
   "execution_count": null,
   "outputs": [],
   "source": [
    "%matplotlib inline\n",
    "\n",
    "import gym\n",
    "import warnings\n",
    "\n",
    "from matplotlib import pyplot as plt"
   ],
   "metadata": {
    "collapsed": false,
    "pycharm": {
     "name": "#%%\n"
    }
   }
  },
  {
   "cell_type": "code",
   "execution_count": null,
   "outputs": [],
   "source": [
    "plt.style.use('seaborn')\n",
    "warnings.filterwarnings('ignore')"
   ],
   "metadata": {
    "collapsed": false,
    "pycharm": {
     "name": "#%%\n"
    }
   }
  },
  {
   "cell_type": "markdown",
   "source": [
    "## Define hyperparameters"
   ],
   "metadata": {
    "collapsed": false,
    "pycharm": {
     "name": "#%% md\n"
    }
   }
  },
  {
   "cell_type": "code",
   "execution_count": null,
   "metadata": {
    "collapsed": true
   },
   "outputs": [],
   "source": [
    "batch_size = 32\n",
    "update_interval = 4\n",
    "clone_interval = int(1e4)\n",
    "save_interval = int(1e3)\n",
    "frame_skip = None\n",
    "num_frames = 4\n",
    "num_actions = 4\n",
    "episodes = int(1e5)\n",
    "memory_depth = int(1e5)\n",
    "epsilon_i = 1.0\n",
    "epsilon_f = 0.1\n",
    "anneal_time = int(1e6)\n",
    "burn_in = int(5e4)\n",
    "gamma = 0.99\n",
    "learning_rate = 2.5e-4"
   ]
  },
  {
   "cell_type": "markdown",
   "source": [
    "## Instantiate model and agent"
   ],
   "metadata": {
    "collapsed": false,
    "pycharm": {
     "name": "#%% md\n"
    }
   }
  },
  {
   "cell_type": "code",
   "execution_count": null,
   "outputs": [],
   "source": [
    "from src.breakout.dqn import DeepQNetwork\n",
    "from src.breakout.agent import Agent\n",
    "\n",
    "env = gym.make('BreakoutDeterministic-v4')\n",
    "\n",
    "model = DeepQNetwork(num_frames, num_actions)\n",
    "\n",
    "agent = Agent(model,\n",
    "              env,\n",
    "              memory_depth,\n",
    "              learning_rate,\n",
    "              gamma,\n",
    "              epsilon_i,\n",
    "              epsilon_f,\n",
    "              anneal_time,\n",
    "              'ckpt',\n",
    "              num_frames,\n",
    "              burn_in,\n",
    "              update_interval,\n",
    "              save_interval,\n",
    "              clone_interval,\n",
    "              batch_size)"
   ],
   "metadata": {
    "collapsed": false,
    "pycharm": {
     "name": "#%%\n"
    }
   }
  },
  {
   "cell_type": "markdown",
   "source": [
    "## Train"
   ],
   "metadata": {
    "collapsed": false,
    "pycharm": {
     "name": "#%% md\n"
    }
   }
  },
  {
   "cell_type": "code",
   "execution_count": null,
   "outputs": [],
   "source": [
    "metadata = agent.play(episodes, train=True, load=False)"
   ],
   "metadata": {
    "collapsed": false,
    "pycharm": {
     "name": "#%%\n"
    }
   }
  }
 ],
 "metadata": {
  "kernelspec": {
   "display_name": "Python 3",
   "language": "python",
   "name": "python3"
  },
  "language_info": {
   "codemirror_mode": {
    "name": "ipython",
    "version": 2
   },
   "file_extension": ".py",
   "mimetype": "text/x-python",
   "name": "python",
   "nbconvert_exporter": "python",
   "pygments_lexer": "ipython2",
   "version": "2.7.6"
  },
  "pycharm": {
   "stem_cell": {
    "cell_type": "raw",
    "source": [],
    "metadata": {
     "collapsed": false
    }
   }
  }
 },
 "nbformat": 4,
 "nbformat_minor": 0
}